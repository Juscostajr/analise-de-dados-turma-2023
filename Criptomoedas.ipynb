{
  "nbformat": 4,
  "nbformat_minor": 0,
  "metadata": {
    "colab": {
      "provenance": [],
      "authorship_tag": "ABX9TyOUTVqoQr66H6YZ6kz2ufl8",
      "include_colab_link": true
    },
    "kernelspec": {
      "name": "python3",
      "display_name": "Python 3"
    },
    "language_info": {
      "name": "python"
    }
  },
  "cells": [
    {
      "cell_type": "markdown",
      "metadata": {
        "id": "view-in-github",
        "colab_type": "text"
      },
      "source": [
        "<a href=\"https://colab.research.google.com/github/Juscostajr/analise-de-dados-turma-2023/blob/main/Criptomoedas.ipynb\" target=\"_parent\"><img src=\"https://colab.research.google.com/assets/colab-badge.svg\" alt=\"Open In Colab\"/></a>"
      ]
    },
    {
      "cell_type": "code",
      "execution_count": 123,
      "metadata": {
        "id": "QWU4Qjfcwm8B"
      },
      "outputs": [],
      "source": [
        "import requests\n",
        "import pandas as pd"
      ]
    },
    {
      "cell_type": "code",
      "source": [
        "response = requests.get('https://api.wazirx.com/sapi/v1/tickers/24hr')\n",
        "df = pd.read_json(response.text)\n",
        "\n",
        "df['variacao'] = df['askPrice'] - df['lastPrice']\n",
        "\n",
        "variacao = df[['symbol','variacao']]\n",
        "variacao = variacao.sort_values('variacao', ascending=False)\n"
      ],
      "metadata": {
        "id": "Gg1ztO9q3fBO"
      },
      "execution_count": 124,
      "outputs": []
    },
    {
      "cell_type": "markdown",
      "source": [
        "Top 5 Altas"
      ],
      "metadata": {
        "id": "R4Hwx6DXtJRU"
      }
    },
    {
      "cell_type": "code",
      "source": [
        "variacao.head(5)"
      ],
      "metadata": {
        "id": "Zev1u18atISz"
      },
      "execution_count": null,
      "outputs": []
    },
    {
      "cell_type": "markdown",
      "source": [
        "Top 5 Baixas"
      ],
      "metadata": {
        "id": "6Muzhto4tN0T"
      }
    },
    {
      "cell_type": "code",
      "source": [
        "variacao.tail(5)"
      ],
      "metadata": {
        "id": "fpYJOT21tSt0"
      },
      "execution_count": null,
      "outputs": []
    }
  ]
}