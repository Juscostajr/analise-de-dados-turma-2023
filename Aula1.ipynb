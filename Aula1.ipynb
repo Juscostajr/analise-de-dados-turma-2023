{
  "nbformat": 4,
  "nbformat_minor": 0,
  "metadata": {
    "colab": {
      "provenance": [],
      "authorship_tag": "ABX9TyNU5tdPxAhdIbYMv6duUCQD",
      "include_colab_link": true
    },
    "kernelspec": {
      "name": "python3",
      "display_name": "Python 3"
    },
    "language_info": {
      "name": "python"
    }
  },
  "cells": [
    {
      "cell_type": "markdown",
      "metadata": {
        "id": "view-in-github",
        "colab_type": "text"
      },
      "source": [
        "<a href=\"https://colab.research.google.com/github/Juscostajr/analise-de-dados-turma-2023/blob/main/Aula1.ipynb\" target=\"_parent\"><img src=\"https://colab.research.google.com/assets/colab-badge.svg\" alt=\"Open In Colab\"/></a>"
      ]
    },
    {
      "cell_type": "markdown",
      "source": [
        "Importamos a biblioteca pandas.\n",
        "Atribuimos a variável df o DataFrame resultante do método read_csv do pandas. \n",
        "O método read_csv lê arquivos csv o os converte em DataFrame."
      ],
      "metadata": {
        "id": "JWMSmKvlQuxk"
      }
    },
    {
      "cell_type": "code",
      "execution_count": null,
      "metadata": {
        "id": "OY-ACwRvyuPu"
      },
      "outputs": [],
      "source": [
        "import pandas as pd\n",
        "df = pd.read_csv('baseBancoDigital.csv', sep = ';')"
      ]
    },
    {
      "cell_type": "markdown",
      "source": [
        "Vererifique o tipo abaixo é DataFrame"
      ],
      "metadata": {
        "id": "4t5EU2w9RPIZ"
      }
    },
    {
      "cell_type": "code",
      "source": [
        "print(type(df))"
      ],
      "metadata": {
        "id": "ukx0TJL0y1Cd"
      },
      "execution_count": null,
      "outputs": []
    },
    {
      "cell_type": "markdown",
      "source": [
        "O método head() exibe as últimas linhas do DataFrame."
      ],
      "metadata": {
        "id": "T6gIE1jJRduZ"
      }
    },
    {
      "cell_type": "code",
      "source": [
        "df.head()"
      ],
      "metadata": {
        "id": "rGZEQPGWzx2c"
      },
      "execution_count": null,
      "outputs": []
    },
    {
      "cell_type": "markdown",
      "source": [
        "Podemos isolar uma coluna específica do DataFrame"
      ],
      "metadata": {
        "id": "vy0tUwoFU6hZ"
      }
    },
    {
      "cell_type": "code",
      "source": [
        "df['Estado']"
      ],
      "metadata": {
        "id": "i4MMpPZeUonm"
      },
      "execution_count": null,
      "outputs": []
    },
    {
      "cell_type": "markdown",
      "source": [
        "O método describe() exibe as variáveis estatísticas da coluna selecionada no DataFrame."
      ],
      "metadata": {
        "id": "rHQKz-8mSSnu"
      }
    },
    {
      "cell_type": "code",
      "source": [
        "df['Estado'].describe()"
      ],
      "metadata": {
        "id": "fXrUwU2BBy0k"
      },
      "execution_count": null,
      "outputs": []
    },
    {
      "cell_type": "markdown",
      "source": [
        "O método info() exibe o nome das colunas do dataframe."
      ],
      "metadata": {
        "id": "MgJQEznKT_DX"
      }
    },
    {
      "cell_type": "code",
      "source": [
        "df.info()"
      ],
      "metadata": {
        "id": "TBhQeRANS2e9"
      },
      "execution_count": null,
      "outputs": []
    },
    {
      "cell_type": "markdown",
      "source": [
        "O método hist() exibe um histograma dos dados numéricos do dataframe."
      ],
      "metadata": {
        "id": "ArEj1Le3UHxg"
      }
    },
    {
      "cell_type": "code",
      "source": [
        "df.hist()"
      ],
      "metadata": {
        "id": "7khNXaJaTSrD"
      },
      "execution_count": null,
      "outputs": []
    },
    {
      "cell_type": "markdown",
      "source": [
        "O método isnull() retorna um booleano indicando se o dado é nulo ou não, utilizamos o método sum() para somar os valores true."
      ],
      "metadata": {
        "id": "Wr2csIn3URYT"
      }
    },
    {
      "cell_type": "code",
      "source": [
        "df.isnull().sum()"
      ],
      "metadata": {
        "id": "bozWhnYkTfY1"
      },
      "execution_count": null,
      "outputs": []
    },
    {
      "cell_type": "markdown",
      "source": [
        "O método groupby() permite realizar agrupamentos, mas atenção, sempre que utilizar um agrupamento deve ser utilizada uma função de grupo como soma, média, mediana, contagem."
      ],
      "metadata": {
        "id": "oilJEwyeS7ae"
      }
    },
    {
      "cell_type": "code",
      "source": [
        "df.groupby('Estado').size()"
      ],
      "metadata": {
        "id": "G8LowswvA9aP"
      },
      "execution_count": null,
      "outputs": []
    },
    {
      "cell_type": "markdown",
      "source": [
        "O método corr() exibe uma matriz de correlação das colunas do DataFrame."
      ],
      "metadata": {
        "id": "4FTPcEeanYh0"
      }
    },
    {
      "cell_type": "code",
      "source": [
        "df.corr()"
      ],
      "metadata": {
        "id": "_SvUEJxnmdFE"
      },
      "execution_count": null,
      "outputs": []
    },
    {
      "cell_type": "markdown",
      "source": [
        "A propriedade plot, permite exibir gráficos."
      ],
      "metadata": {
        "id": "yj59RVKhVGI8"
      }
    },
    {
      "cell_type": "code",
      "source": [
        "df.groupby('Estado').size().plot.bar()"
      ],
      "metadata": {
        "id": "ZUi0EVx5FpO0"
      },
      "execution_count": null,
      "outputs": []
    },
    {
      "cell_type": "markdown",
      "source": [
        "Agora considere o seguinte: Na regra de negócio do banco digital, são aceitos apenas clientes da região sul. Verifique que o DataFrame tem estados inválidos como \"TD\" e \"SP\". Então precisaremos realizar uma limpeza desses dados.\n",
        "Abaixo listamos os dados estatísticos para buscar pelo estado que mais se repete (Moda). A moda pode ser identificada como \"top\".\n",
        " "
      ],
      "metadata": {
        "id": "cmUvc_VRVVuB"
      }
    },
    {
      "cell_type": "code",
      "source": [
        "df['Estado'].describe()"
      ],
      "metadata": {
        "id": "p2XsUFvhMbCg"
      },
      "execution_count": null,
      "outputs": []
    },
    {
      "cell_type": "markdown",
      "source": [
        "Então realizamos a substituição de qualquer estado que estiver fora do domínio (Região Sul) para ser substituído pela moda \"RS\"."
      ],
      "metadata": {
        "id": "ElhfNJf1WbOr"
      }
    },
    {
      "cell_type": "code",
      "source": [
        "df.loc[~df['Estado'].isin( ['RS','SC','PR'])] = \"RS\""
      ],
      "metadata": {
        "id": "xuLqHnE1NGBi"
      },
      "execution_count": null,
      "outputs": []
    },
    {
      "cell_type": "markdown",
      "source": [
        "Observe que temos 7 salários sem valor, iremos preenche-los com a média salarial."
      ],
      "metadata": {
        "id": "ePMzbkeSWiRN"
      }
    },
    {
      "cell_type": "code",
      "source": [
        "df['Salario'].isnull().sum()"
      ],
      "metadata": {
        "id": "dWkSa8g5XDpk"
      },
      "execution_count": null,
      "outputs": []
    },
    {
      "cell_type": "markdown",
      "source": [
        "O método mean() exibe a média."
      ],
      "metadata": {
        "id": "vmHlVSV0Y-rm"
      }
    },
    {
      "cell_type": "code",
      "source": [
        "mediaSalarial = df['Salario'].mean()\n",
        "mediaSalarial"
      ],
      "metadata": {
        "id": "BF2Rj5TwXZw5"
      },
      "execution_count": null,
      "outputs": []
    },
    {
      "cell_type": "markdown",
      "source": [
        "Utilizamos a propriedade loc para buscar pelos valores de salário nulos. Em seguida atribuimos a média salarial a eles."
      ],
      "metadata": {
        "id": "_GG-h-IxZAhO"
      }
    },
    {
      "cell_type": "code",
      "source": [
        "df.loc[df['Salario'].isnull()] = mediaSalarial;"
      ],
      "metadata": {
        "id": "_JeDQ1FHXHEo"
      },
      "execution_count": null,
      "outputs": []
    },
    {
      "cell_type": "markdown",
      "source": [
        "Desafio, faça uma análise da coluna Sexo e realize a higienização dos dados."
      ],
      "metadata": {
        "id": "jzf68BgNZdyv"
      }
    }
  ]
}